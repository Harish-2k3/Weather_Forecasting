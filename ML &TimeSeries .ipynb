{
 "cells": [
  {
   "cell_type": "markdown",
   "id": "0e9621e8",
   "metadata": {},
   "source": [
    "# EDA"
   ]
  },
  {
   "cell_type": "code",
   "execution_count": null,
   "id": "e4e30798",
   "metadata": {},
   "outputs": [],
   "source": [
    "import pandas as pd\n",
    "import matplotlib.pyplot as plt\n",
    "import seaborn as sns\n",
    "import plotly.express as px"
   ]
  },
  {
   "cell_type": "code",
   "execution_count": null,
   "id": "f4f6fe10",
   "metadata": {},
   "outputs": [],
   "source": [
    "data = pd.read_csv('3363652.csv')"
   ]
  },
  {
   "cell_type": "code",
   "execution_count": null,
   "id": "09e95653",
   "metadata": {},
   "outputs": [],
   "source": [
    "null_pct = data.apply(pd.isnull).sum()/data.shape[0]\n",
    "null_pct"
   ]
  },
  {
   "cell_type": "code",
   "execution_count": null,
   "id": "ebc50e9a",
   "metadata": {},
   "outputs": [],
   "source": [
    "valid_col = data.columns[null_pct < .05]\n",
    "valid_col"
   ]
  },
  {
   "cell_type": "code",
   "execution_count": null,
   "id": "8ab31277",
   "metadata": {},
   "outputs": [],
   "source": [
    "data = data[valid_col].copy()\n",
    "data"
   ]
  },
  {
   "cell_type": "code",
   "execution_count": null,
   "id": "5c01ab96",
   "metadata": {},
   "outputs": [],
   "source": [
    "print(data.head())"
   ]
  },
  {
   "cell_type": "code",
   "execution_count": null,
   "id": "cd467f15",
   "metadata": {},
   "outputs": [],
   "source": [
    "print(data.tail())"
   ]
  },
  {
   "cell_type": "code",
   "execution_count": null,
   "id": "88e44d1f",
   "metadata": {},
   "outputs": [],
   "source": [
    "print(data.info())"
   ]
  },
  {
   "cell_type": "code",
   "execution_count": null,
   "id": "c8a3dfd3",
   "metadata": {},
   "outputs": [],
   "source": [
    "print(data.describe())"
   ]
  },
  {
   "cell_type": "code",
   "execution_count": null,
   "id": "39311a37",
   "metadata": {},
   "outputs": [],
   "source": [
    "print(data['SNWD'].value_counts().head())"
   ]
  },
  {
   "cell_type": "code",
   "execution_count": null,
   "id": "2a732507",
   "metadata": {},
   "outputs": [],
   "source": [
    "print(data['TMIN'].unique())"
   ]
  },
  {
   "cell_type": "code",
   "execution_count": null,
   "id": "a5e63cd4",
   "metadata": {},
   "outputs": [],
   "source": [
    "print(data.dtypes)"
   ]
  },
  {
   "cell_type": "code",
   "execution_count": null,
   "id": "2ec11598",
   "metadata": {},
   "outputs": [],
   "source": [
    "data = data.dropna()"
   ]
  },
  {
   "cell_type": "markdown",
   "id": "a0de83a7",
   "metadata": {},
   "source": [
    "# Visualizations "
   ]
  },
  {
   "cell_type": "code",
   "execution_count": null,
   "id": "83c34b75",
   "metadata": {},
   "outputs": [],
   "source": [
    "plt.figure(figsize=(10, 6))\n",
    "data['TMAX'].value_counts().head().plot(kind='bar')\n",
    "plt.xlabel('Maximum temperature')\n",
    "plt.ylabel('Count')\n",
    "plt.title('Distribution of Categories')\n",
    "plt.show()"
   ]
  },
  {
   "cell_type": "code",
   "execution_count": null,
   "id": "3c2a7501",
   "metadata": {},
   "outputs": [],
   "source": [
    "plt.figure(figsize=(10, 6))\n",
    "data['TMAX'].value_counts().tail(10).plot(kind='bar')\n",
    "plt.xlabel('Maximum temperature')\n",
    "plt.ylabel('Count')\n",
    "plt.title('Distribution of Categories')\n",
    "plt.show()"
   ]
  },
  {
   "cell_type": "code",
   "execution_count": null,
   "id": "7eecd416",
   "metadata": {},
   "outputs": [],
   "source": [
    "correlation_matrix = data.corr()\n",
    "plt.figure(figsize=(10, 8))\n",
    "sns.heatmap(correlation_matrix, annot=True, cmap='coolwarm')\n",
    "plt.title('Correlation Matrix')\n",
    "plt.show()"
   ]
  },
  {
   "cell_type": "code",
   "execution_count": null,
   "id": "30923208",
   "metadata": {},
   "outputs": [],
   "source": [
    "import pandas as pd\n",
    "import matplotlib.pyplot as plt\n",
    "import seaborn as sns\n",
    "import plotly.graph_objects as go\n",
    "\n",
    "fig = go.Figure(data=go.Scatter3d(\n",
    "    x=data['TMIN'],\n",
    "    y=data['TMAX'],\n",
    "    z=data['PRCP'],\n",
    "    mode='markers',\n",
    "    marker=dict(\n",
    "        size=5,\n",
    "        color=data['SNOW'],\n",
    "        colorscale='Viridis',\n",
    "        opacity=0.8\n",
    "    )\n",
    "))\n",
    "fig.update_layout(scene=dict(\n",
    "    xaxis_title='X',\n",
    "    yaxis_title='Y',\n",
    "    zaxis_title='Z'\n",
    "))\n",
    "fig.show()"
   ]
  },
  {
   "cell_type": "markdown",
   "id": "db43fa78",
   "metadata": {},
   "source": [
    "# KNN"
   ]
  },
  {
   "cell_type": "code",
   "execution_count": null,
   "id": "8f300e8d",
   "metadata": {},
   "outputs": [],
   "source": [
    "#importing the library\n",
    "import numpy as np\n",
    "import pandas as pd\n",
    "import matplotlib.pyplot as plt \n",
    "\n",
    "from sklearn.model_selection import train_test_split\n",
    "from sklearn.preprocessing import StandardScaler\n",
    "from sklearn.metrics import confusion_matrix\n",
    "from sklearn.metrics import f1_score\n",
    "from sklearn.metrics import accuracy_score\n",
    "from sklearn.neighbors import KNeighborsClassifier\n",
    "from sklearn.metrics import classification_report\n",
    "\n",
    "#read the data\n",
    "data = pd.read_csv('3363652.csv',index_col=\"DATE\")\n",
    "data.head()\n",
    "\n",
    "#find null percentage\n",
    "null_pct = data.apply(pd.isnull).sum()/data.shape[0]\n",
    "null_pct\n",
    "\n",
    "#Select data\n",
    "valid_col = data.columns[null_pct < .05]\n",
    "valid_col\n",
    "\n",
    "#copy data\n",
    "data = data[valid_col].copy()\n",
    "data\n",
    "\n",
    "#Delete COlumns\n",
    "column_to_remove = ['STATION','NAME','LATITUDE','LONGITUDE']\n",
    "data = data.drop(column_to_remove, axis=1)\n",
    "data\n",
    "\n",
    "#Assign value\n",
    "x = data.iloc[:,:-1]\n",
    "x\n",
    "\n",
    "y = data.iloc[:,-1]\n",
    "y\n",
    "\n",
    "#Find NULL value\n",
    "data.isnull().sum()\n",
    "\n",
    "#split data\n",
    "from sklearn.model_selection import train_test_split  \n",
    "x_train, x_test, y_train, y_test= train_test_split(x, y, test_size= 0.2, random_state=0) \n",
    "\n",
    "#Scaling the data\n",
    "from sklearn.preprocessing import StandardScaler  \n",
    "st_x = StandardScaler()  \n",
    "x_train = st_x.fit_transform(x_train)  \n",
    "x_test = st_x.transform(x_test)\n",
    "\n",
    "#Change data type\n",
    "index = pd.to_datetime(data.index)\n",
    "index\n",
    "\n",
    "#Find square root\n",
    "import math\n",
    "math.sqrt(len(y_test))\n",
    "\n",
    "#KNN\n",
    "classifier = KNeighborsClassifier(n_neighbors = 61, p=2, metric='euclidean')\n",
    "classifier.fit(x_train, y_train)\n",
    "classifier.score(x_test,y_test)\n",
    "print(classifier.predict(x_test))\n",
    "print(confusion_matrix(y_test,y_pred))\n",
    "\n",
    "print(classification_report(y_test,y_pred))\n",
    "print(accuracy_score(y_test,y_pred))"
   ]
  },
  {
   "cell_type": "markdown",
   "id": "dbb9862b",
   "metadata": {},
   "source": [
    "# ANN"
   ]
  },
  {
   "cell_type": "code",
   "execution_count": null,
   "id": "857c0a15",
   "metadata": {},
   "outputs": [],
   "source": [
    "#import the library\n",
    "import numpy as np\n",
    "import pandas as pd\n",
    "import tensorflow as tf\n",
    "from sklearn.model_selection import train_test_split\n",
    "from sklearn.preprocessing import StandardScaler\n",
    "from sklearn.neighbors import KNeighborsClassifier\n",
    "from keras.layers import Dense\n",
    "from keras.models import Sequential\n",
    "import matplotlib.pyplot as plt \n",
    "\n",
    "#read the data\n",
    "df = pd.read_csv(\"3363652.csv\" , index_col=\"DATE\")\n",
    "\n",
    "#Separate features and target variable\n",
    "x = df.iloc[:,0:9].values\n",
    "y = df.iloc[:,-1].values\n",
    "\n",
    "#split the data\n",
    "X_train,X_test,y_train,y_test = train_test_split(X,y,random_state = 0, test_size = 0.20)\n",
    "\n",
    "#scale the feature\n",
    "scaler = StandardScaler()\n",
    "X_train = scaler.fit_transform(X_train)\n",
    "X_test = scaler.transform(X_test)\n",
    "\n",
    "#build the ANN model\n",
    "model = Sequential()\n",
    "model.add(Dense(units=6, activation = 'relu',input_dim=X_train.shape[1]))\n",
    "model.add(Dense(units=6, activation = 'relu'))\n",
    "model.add(Dense(units=1, activation = 'sigmoid'))\n",
    "\n",
    "#compile the model\n",
    "model.compile(optimizer='adam', loss='binary_crossentropy', metrics=['accuracy'])\n",
    "\n",
    "#train the model\n",
    "history = model.fit(X_train, y_train, batch_size=32, epochs=10, validation_data=(X_test, y_test))\n",
    "\n",
    "#Plot the training and validation accuracy over epochs\n",
    "plt.plot(history.history['accuracy'])\n",
    "plt.plot(history.history['val_accuracy'])\n",
    "plt.title('Model Accuracy')\n",
    "plt.xlabel('Epoch')\n",
    "plt.ylabel('Accuracy')\n",
    "plt.legend(['Train', 'Validation'], loc='upper left')\n",
    "plt.show()\n",
    "\n",
    "#Plot the training and validation loss over epochs\n",
    "plt.plot(history.history['loss'])\n",
    "plt.plot(history.history['val_loss'])\n",
    "plt.title('Model Loss')\n",
    "plt.xlabel('Epoch')\n",
    "plt.ylabel('Loss')\n",
    "plt.legend(['Train', 'Validation'], loc='upper right')\n",
    "plt.show()\n",
    "\n",
    "# Evaluate the model on the testing set\n",
    "loss, accuracy = model.evaluate(X_test, y_test)\n",
    "print('Test Loss:', loss)\n",
    "print('Test Accuracy:', accuracy)"
   ]
  },
  {
   "cell_type": "markdown",
   "id": "062c7f29",
   "metadata": {},
   "source": [
    "# ARIMA"
   ]
  },
  {
   "cell_type": "code",
   "execution_count": null,
   "id": "487e792b",
   "metadata": {},
   "outputs": [],
   "source": [
    "import pandas as pd\n",
    "import numpy as np\n",
    "import matplotlib.pyplot as plt\n",
    "from statsmodels.tsa.arima.model import ARIMA"
   ]
  },
  {
   "cell_type": "code",
   "execution_count": null,
   "id": "5a785a85",
   "metadata": {},
   "outputs": [],
   "source": [
    "data = pd.read_csv('3363652.csv')"
   ]
  },
  {
   "cell_type": "code",
   "execution_count": null,
   "id": "272a76d7",
   "metadata": {},
   "outputs": [],
   "source": [
    "data['DATE'] = pd.to_datetime(data['DATE'])"
   ]
  },
  {
   "cell_type": "code",
   "execution_count": null,
   "id": "57aceaeb",
   "metadata": {},
   "outputs": [],
   "source": [
    "data.set_index('DATE', inplace=True)"
   ]
  },
  {
   "cell_type": "code",
   "execution_count": null,
   "id": "2760fdb3",
   "metadata": {},
   "outputs": [],
   "source": [
    "null_pct = data.apply(pd.isnull).sum()/data.shape[0]\n",
    "null_pct"
   ]
  },
  {
   "cell_type": "code",
   "execution_count": null,
   "id": "d20ca0ce",
   "metadata": {},
   "outputs": [],
   "source": [
    "valid_col = data.columns[null_pct < .05]\n",
    "valid_col"
   ]
  },
  {
   "cell_type": "code",
   "execution_count": null,
   "id": "94094dc5",
   "metadata": {},
   "outputs": [],
   "source": [
    "data = data[valid_col].copy()"
   ]
  },
  {
   "cell_type": "code",
   "execution_count": null,
   "id": "a53fa29e",
   "metadata": {},
   "outputs": [],
   "source": [
    "column_to_remove = ['STATION','NAME','LATITUDE','LONGITUDE','ELEVATION']\n",
    "data = data.drop(column_to_remove, axis=1)"
   ]
  },
  {
   "cell_type": "code",
   "execution_count": null,
   "id": "550069bb",
   "metadata": {},
   "outputs": [],
   "source": [
    "print('Shape of the data :',data.shape)\n",
    "data"
   ]
  },
  {
   "cell_type": "code",
   "execution_count": null,
   "id": "cf043f54",
   "metadata": {},
   "outputs": [],
   "source": [
    "data['TMIN'].plot(figsize=(12,5))"
   ]
  },
  {
   "cell_type": "code",
   "execution_count": null,
   "id": "59a47aa2",
   "metadata": {},
   "outputs": [],
   "source": [
    "from statsmodels.tsa.stattools import adfuller\n",
    "\n",
    "def ad_test(dataset):\n",
    "    dftest = adfuller(dataset, autolag = 'AIC')\n",
    "    print(\"1. ADF:\",dftest[0])\n",
    "    print(\"2. P-Value:\",dftest[1])\n",
    "    print(\"3. Num of Lags:\",dftest[2])\n",
    "    print(\"4. Num of Observation used for ADF regression and critical value calculation:\",dftest[3])\n",
    "    print(\"5. Critical Value:\")\n",
    "    \n",
    "    for key, val in dftest[4].items():\n",
    "        print(\"\\t\",key,\": \",val)"
   ]
  },
  {
   "cell_type": "code",
   "execution_count": null,
   "id": "c804e6f4",
   "metadata": {},
   "outputs": [],
   "source": [
    "ad_test(data['TMIN'])"
   ]
  },
  {
   "cell_type": "code",
   "execution_count": null,
   "id": "7ff1f938",
   "metadata": {},
   "outputs": [],
   "source": [
    "from pmdarima import auto_arima\n",
    "import warnings\n",
    "warnings.filterwarnings(\"ignore\")"
   ]
  },
  {
   "cell_type": "code",
   "execution_count": null,
   "id": "4092ca61",
   "metadata": {},
   "outputs": [],
   "source": [
    "stepwise_fit = auto_arima(data['TMIN'], trace = True,\n",
    "                          suppress_warnings = True)\n",
    "stepwise_fit.summary()"
   ]
  },
  {
   "cell_type": "code",
   "execution_count": null,
   "id": "0d599a44",
   "metadata": {},
   "outputs": [],
   "source": [
    "from statsmodels.tsa.arima.model import ARIMA\n",
    "\n",
    "from statsmodels.tsa.statespace.sarimax import SARIMAX"
   ]
  },
  {
   "cell_type": "code",
   "execution_count": null,
   "id": "30efaa25",
   "metadata": {},
   "outputs": [],
   "source": [
    "print(data.shape)\n",
    "train = data.iloc[:-30]\n",
    "test = data.iloc[-30:]\n",
    "print(train.shape,test.shape)"
   ]
  },
  {
   "cell_type": "code",
   "execution_count": null,
   "id": "2fcfd057",
   "metadata": {},
   "outputs": [],
   "source": [
    "model = ARIMA(train['TMIN'],order=(4,0,3))\n",
    "model = model.fit()\n",
    "model.summary()"
   ]
  },
  {
   "cell_type": "code",
   "execution_count": null,
   "id": "9f46287f",
   "metadata": {},
   "outputs": [],
   "source": [
    "start = len(train)\n",
    "end = len(train)+len(test)-1\n",
    "pred = model.predict(start = start, end = end, type = 'levels')\n",
    "print(pred)"
   ]
  },
  {
   "cell_type": "code",
   "execution_count": null,
   "id": "d3abd192",
   "metadata": {},
   "outputs": [],
   "source": [
    "pred.plot(legend = True)\n",
    "test['TMIN'].plot(legend = True)"
   ]
  },
  {
   "cell_type": "code",
   "execution_count": null,
   "id": "d9522dda",
   "metadata": {},
   "outputs": [],
   "source": [
    "test['TMIN'].mean()"
   ]
  },
  {
   "cell_type": "code",
   "execution_count": null,
   "id": "654f8028",
   "metadata": {},
   "outputs": [],
   "source": [
    "from sklearn.metrics import mean_squared_error\n",
    "from math import sqrt\n",
    "rmse = sqrt(mean_squared_error(pred,test['TMIN']))\n",
    "print(rmse)"
   ]
  },
  {
   "cell_type": "code",
   "execution_count": null,
   "id": "c0f28596",
   "metadata": {},
   "outputs": [],
   "source": [
    "model2 = ARIMA(data['TMIN'],order=(4,0,3))\n",
    "model2=model2.fit()\n",
    "data.tail()"
   ]
  },
  {
   "cell_type": "code",
   "execution_count": null,
   "id": "be9357d6",
   "metadata": {},
   "outputs": [],
   "source": [
    "index_feature_dates = pd.date_range(start = '2023-06-12', end = '2023-07-13')\n",
    "print(index_feature_dates)"
   ]
  },
  {
   "cell_type": "code",
   "execution_count": null,
   "id": "ea852d32",
   "metadata": {},
   "outputs": [],
   "source": [
    "pred = model2.predict(start= len(data),end =len(data)+30,typ='levels').rename('ARIMA Predictions')\n",
    "print(pred)"
   ]
  },
  {
   "cell_type": "code",
   "execution_count": null,
   "id": "dd5d5d8a",
   "metadata": {},
   "outputs": [],
   "source": [
    "pred.plot(figsize=(12,6),legend = True)"
   ]
  },
  {
   "cell_type": "code",
   "execution_count": null,
   "id": "29ad59f9",
   "metadata": {},
   "outputs": [],
   "source": []
  }
 ],
 "metadata": {
  "kernelspec": {
   "display_name": "Python 3 (ipykernel)",
   "language": "python",
   "name": "python3"
  },
  "language_info": {
   "codemirror_mode": {
    "name": "ipython",
    "version": 3
   },
   "file_extension": ".py",
   "mimetype": "text/x-python",
   "name": "python",
   "nbconvert_exporter": "python",
   "pygments_lexer": "ipython3",
   "version": "3.11.3"
  }
 },
 "nbformat": 4,
 "nbformat_minor": 5
}
